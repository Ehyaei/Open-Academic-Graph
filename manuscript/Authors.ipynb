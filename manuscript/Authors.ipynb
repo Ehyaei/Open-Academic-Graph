{
 "cells": [
  {
   "cell_type": "code",
   "execution_count": 1,
   "id": "cf5435de",
   "metadata": {},
   "outputs": [],
   "source": [
    "%%init_spark\n",
    "launcher.master = \"local[6]\"\n",
    "launcher.driver_memory = '8g'"
   ]
  },
  {
   "cell_type": "code",
   "execution_count": 2,
   "id": "a21337fe",
   "metadata": {},
   "outputs": [
    {
     "data": {
      "text/plain": [
       "Intitializing Scala interpreter ..."
      ]
     },
     "metadata": {},
     "output_type": "display_data"
    },
    {
     "data": {
      "text/plain": [
       "Spark Web UI available at http://pc:4040\n",
       "SparkContext available as 'sc' (version = 3.1.2, master = local[6], app id = local-1631801415406)\n",
       "SparkSession available as 'spark'\n"
      ]
     },
     "metadata": {},
     "output_type": "display_data"
    },
    {
     "data": {
      "text/plain": [
       "import org.apache.spark.sql.functions._\n"
      ]
     },
     "execution_count": 2,
     "metadata": {},
     "output_type": "execute_result"
    }
   ],
   "source": [
    "import org.apache.spark.sql.functions._"
   ]
  },
  {
   "cell_type": "code",
   "execution_count": 3,
   "id": "4718bdc5",
   "metadata": {},
   "outputs": [
    {
     "data": {
      "text/plain": [
       "rawDataPath: String = /mnt/a/Projects/101DataSets/Open-Academic-Graph/raw-data/\n",
       "dataPath: String = /mnt/a/Projects/101DataSets/Open-Academic-Graph/data/\n"
      ]
     },
     "execution_count": 3,
     "metadata": {},
     "output_type": "execute_result"
    }
   ],
   "source": [
    "val rawDataPath = \"/mnt/a/Projects/101DataSets/Open-Academic-Graph/raw-data/\"\n",
    "val dataPath = \"/mnt/a/Projects/101DataSets/Open-Academic-Graph/data/\""
   ]
  },
  {
   "cell_type": "markdown",
   "id": "e613d405",
   "metadata": {},
   "source": [
    "# Read Data"
   ]
  },
  {
   "cell_type": "code",
   "execution_count": 4,
   "id": "76d8310a",
   "metadata": {},
   "outputs": [
    {
     "data": {
      "text/plain": [
       "authors: org.apache.spark.sql.DataFrame = [id: string, n_citation: bigint ... 7 more fields]\n"
      ]
     },
     "execution_count": 4,
     "metadata": {},
     "output_type": "execute_result"
    }
   ],
   "source": [
    "val authors = spark.read.parquet(rawDataPath+\"spark/authors.parquet\")"
   ]
  },
  {
   "cell_type": "code",
   "execution_count": 5,
   "id": "2529cd94",
   "metadata": {},
   "outputs": [
    {
     "name": "stdout",
     "output_type": "stream",
     "text": [
      "root\n",
      " |-- id: string (nullable = true)\n",
      " |-- n_citation: long (nullable = true)\n",
      " |-- n_pubs: long (nullable = true)\n",
      " |-- name: string (nullable = true)\n",
      " |-- normalized_name: string (nullable = true)\n",
      " |-- org: string (nullable = true)\n",
      " |-- orgs: array (nullable = true)\n",
      " |    |-- element: string (containsNull = true)\n",
      " |-- pubs: array (nullable = true)\n",
      " |    |-- element: struct (containsNull = true)\n",
      " |    |    |-- i: string (nullable = true)\n",
      " |    |    |-- r: long (nullable = true)\n",
      " |-- tags: array (nullable = true)\n",
      " |    |-- element: struct (containsNull = true)\n",
      " |    |    |-- t: string (nullable = true)\n",
      "\n"
     ]
    }
   ],
   "source": [
    "authors.printSchema"
   ]
  },
  {
   "cell_type": "code",
   "execution_count": 7,
   "id": "e18f586c",
   "metadata": {},
   "outputs": [
    {
     "name": "stdout",
     "output_type": "stream",
     "text": [
      "+----------+----------+------+------------------+------------------+----+----+-----------------+----+\n",
      "|        id|n_citation|n_pubs|              name|   normalized_name| org|orgs|             pubs|tags|\n",
      "+----------+----------+------+------------------+------------------+----+----+-----------------+----+\n",
      "|2736393860|         0|     1|            马晓东|            马晓东|null|null|[{2738068945, 2}]|null|\n",
      "|2736393861|         0|     1|Farras Amany Husna|farras amany husna|null|null|[{2738013386, 0}]|null|\n",
      "+----------+----------+------+------------------+------------------+----+----+-----------------+----+\n",
      "only showing top 2 rows\n",
      "\n"
     ]
    }
   ],
   "source": [
    "authors.show(2)"
   ]
  },
  {
   "cell_type": "markdown",
   "id": "9aa8b93c",
   "metadata": {},
   "source": [
    "## n_citation and n_pubs frequeny tables"
   ]
  },
  {
   "cell_type": "code",
   "execution_count": 15,
   "id": "bfcefbfa",
   "metadata": {},
   "outputs": [],
   "source": [
    "authors\n",
    ".groupBy($\"n_citation\",$\"n_pubs\")\n",
    ".count\n",
    ".coalesce(1)\n",
    ".write.option(\"header\",\"true\").mode(\"overwrite\").csv(dataPath+\"n_citation_n_pubs_count.csv\")"
   ]
  },
  {
   "cell_type": "markdown",
   "id": "df26568d",
   "metadata": {},
   "source": [
    "## Find tags Frequeny"
   ]
  },
  {
   "cell_type": "code",
   "execution_count": 35,
   "id": "b39542c8",
   "metadata": {},
   "outputs": [
    {
     "name": "stdout",
     "output_type": "stream",
     "text": [
      "[WrappedArray([Magazine])]\n",
      "[WrappedArray([Technology], [Entrepreneurship], [Design methods], [Risk aversion], [Impact], [Public sector], [Commerce], [Social network], [Technology management], [Perception], [Service provider], [Intervention], [Social environment], [Venture capital], [Social science], [Best practice], [Economics], [Innovation], [Management], [Organization development], [Public policy], [Superconducting magnetic energy storage], [Comparative research], [Futures Studies], [Ageing], [Primary source], [Finance], [Social capital], [Ethnic group], [Open learning], [Operations research])]\n"
     ]
    }
   ],
   "source": [
    "authors.filter(!isnull($\"tags\"))\n",
    ".select(\"tags\")\n",
    ".take(2)\n",
    ".foreach(println)"
   ]
  },
  {
   "cell_type": "code",
   "execution_count": 51,
   "id": "28725240",
   "metadata": {},
   "outputs": [],
   "source": [
    "authors.filter(!isnull($\"tags\"))\n",
    ".select(explode($\"tags\").as(\"tags\"))\n",
    ".select(\"tags.t\")\n",
    ".withColumnRenamed(\"t\",\"tags\")\n",
    ".groupBy(\"tags\")\n",
    ".count\n",
    ".coalesce(1)\n",
    ".write.option(\"header\",\"true\").mode(\"overwrite\").csv(dataPath+\"tags_count.csv\")"
   ]
  },
  {
   "cell_type": "markdown",
   "id": "9f01e5a4",
   "metadata": {},
   "source": [
    "##  Add Location to Authors data"
   ]
  },
  {
   "cell_type": "code",
   "execution_count": 66,
   "id": "8eb6ec84",
   "metadata": {},
   "outputs": [
    {
     "data": {
      "text/plain": [
       "aff: org.apache.spark.sql.DataFrame = [org: string, Latitude: string ... 4 more fields]\n"
      ]
     },
     "execution_count": 66,
     "metadata": {},
     "output_type": "execute_result"
    }
   ],
   "source": [
    "val aff = spark.read.option(\"header\",\"true\").csv(dataPath+\"affiliation.csv\")\n",
    ".withColumnRenamed(\"DisplayName\",\"org\")"
   ]
  },
  {
   "cell_type": "code",
   "execution_count": 67,
   "id": "0abd8e00",
   "metadata": {},
   "outputs": [
    {
     "name": "stdout",
     "output_type": "stream",
     "text": [
      "+--------------------+---------+---------+-----+-----------+-----+\n",
      "|                 org| Latitude|Longitude|   id|    country|iso3c|\n",
      "+--------------------+---------+---------+-----+-----------+-----+\n",
      "|Illinois College ...| 41.83574|-87.62341| 4605|        USA|  USA|\n",
      "|   Sangji University| 37.36995|127.92861| 9507|South Korea|  KOR|\n",
      "|Manchester Instit...|   53.468|   -2.236|15855|         UK|  GBR|\n",
      "|Ateneo de Manila ...| 14.63889|121.07778|19722|Philippines|  PHL|\n",
      "|Instituto Militar...|-22.95589|-43.16614|41870|         NA|   NA|\n",
      "|Sapientia University|  46.7677|  23.5911|43886|    Romania|  ROU|\n",
      "|Kahramanmaraş Süt...|  37.5856|  36.8212|46017|     Turkey|  TUR|\n",
      "|Al Akhawayn Unive...| 33.53925| -5.10555|47844|    Morocco|  MAR|\n",
      "|Oswaldo Cruz Foun...|-22.87488|-43.24544|52325|     Brazil|  BRA|\n",
      "|     Curie Institute| 48.84333|  2.34417|80043|     France|  FRA|\n",
      "+--------------------+---------+---------+-----+-----------+-----+\n",
      "only showing top 10 rows\n",
      "\n"
     ]
    }
   ],
   "source": [
    "aff.show(10)"
   ]
  },
  {
   "cell_type": "code",
   "execution_count": 6,
   "id": "79572789",
   "metadata": {},
   "outputs": [],
   "source": [
    "authors\n",
    ".filter(!isnull($\"org\"))\n",
    ".groupBy(\"org\")\n",
    ".agg(\n",
    "    sum($\"n_citation\").as(\"total_citation\"),\n",
    "    sum($\"n_pubs\").as(\"total_pubs\")\n",
    "    )\n",
    ".coalesce(1)\n",
    ".write.option(\"header\",\"true\").mode(\"overwrite\").csv(dataPath+\"pubs_citation_org_count1.csv\")"
   ]
  },
  {
   "cell_type": "code",
   "execution_count": 7,
   "id": "77a86d87",
   "metadata": {},
   "outputs": [],
   "source": [
    "authors\n",
    ".filter(!isnull($\"tags\") && !isnull($\"org\"))\n",
    ".select($\"org\",explode($\"tags\").as(\"tags\"))\n",
    ".select(\"org\",\"tags.t\")\n",
    ".withColumnRenamed(\"t\",\"tags\")\n",
    ".groupBy(\"tags\",\"org\")\n",
    ".count\n",
    ".coalesce(1)\n",
    ".write.option(\"header\",\"true\").mode(\"overwrite\").csv(dataPath+\"tags_org_count.csv\")"
   ]
  },
  {
   "cell_type": "code",
   "execution_count": 48,
   "id": "91367864",
   "metadata": {},
   "outputs": [
    {
     "data": {
      "text/plain": [
       "authorPaper: org.apache.spark.sql.DataFrame = [id: string, n_citation: bigint ... 3 more fields]\n"
      ]
     },
     "execution_count": 48,
     "metadata": {},
     "output_type": "execute_result"
    }
   ],
   "source": [
    "val authorPaper = authors.select($\"id\",$\"n_citation\",$\"n_pubs\",explode($\"pubs\").as(\"pc\"))\n",
    ".select($\"id\",$\"n_citation\",$\"n_pubs\",$\"pc.i\".as(\"paperId\"),$\"pc.r\".as(\"order\"))"
   ]
  },
  {
   "cell_type": "code",
   "execution_count": 49,
   "id": "b59066cb",
   "metadata": {},
   "outputs": [],
   "source": [
    "authorPaper\n",
    ".groupBy($\"n_citation\",$\"n_pubs\",$\"order\")\n",
    ".count\n",
    ".coalesce(1)\n",
    ".write.option(\"header\",\"true\").mode(\"overwrite\").csv(dataPath+\"n_citation_n_pubs_order_count.csv\")"
   ]
  },
  {
   "cell_type": "code",
   "execution_count": null,
   "id": "c6b98d25",
   "metadata": {},
   "outputs": [],
   "source": []
  }
 ],
 "metadata": {
  "kernelspec": {
   "display_name": "spylon-kernel",
   "language": "scala",
   "name": "spylon-kernel"
  },
  "language_info": {
   "codemirror_mode": "text/x-scala",
   "file_extension": ".scala",
   "help_links": [
    {
     "text": "MetaKernel Magics",
     "url": "https://metakernel.readthedocs.io/en/latest/source/README.html"
    }
   ],
   "mimetype": "text/x-scala",
   "name": "scala",
   "pygments_lexer": "scala",
   "version": "0.4.1"
  }
 },
 "nbformat": 4,
 "nbformat_minor": 5
}
