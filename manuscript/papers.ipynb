{
 "cells": [
  {
   "cell_type": "code",
   "execution_count": 1,
   "id": "716066e1",
   "metadata": {},
   "outputs": [],
   "source": [
    "%%init_spark\n",
    "launcher.master = \"local[6]\"\n",
    "launcher.driver_memory = '8g'"
   ]
  },
  {
   "cell_type": "code",
   "execution_count": 2,
   "id": "bdcf1ec0",
   "metadata": {},
   "outputs": [
    {
     "data": {
      "text/plain": [
       "Intitializing Scala interpreter ..."
      ]
     },
     "metadata": {},
     "output_type": "display_data"
    },
    {
     "data": {
      "text/plain": [
       "Spark Web UI available at http://pc:4040\n",
       "SparkContext available as 'sc' (version = 3.1.2, master = local[6], app id = local-1631802296514)\n",
       "SparkSession available as 'spark'\n"
      ]
     },
     "metadata": {},
     "output_type": "display_data"
    },
    {
     "data": {
      "text/plain": [
       "import org.apache.spark.sql.functions._\n"
      ]
     },
     "execution_count": 2,
     "metadata": {},
     "output_type": "execute_result"
    }
   ],
   "source": [
    "import org.apache.spark.sql.functions._"
   ]
  },
  {
   "cell_type": "code",
   "execution_count": 3,
   "id": "c7c8d2b3",
   "metadata": {},
   "outputs": [
    {
     "data": {
      "text/plain": [
       "rawDataPath: String = /mnt/a/Projects/101DataSets/Open-Academic-Graph/raw-data/\n",
       "dataPath: String = /mnt/a/Projects/101DataSets/Open-Academic-Graph/data/\n"
      ]
     },
     "execution_count": 3,
     "metadata": {},
     "output_type": "execute_result"
    }
   ],
   "source": [
    "val rawDataPath = \"/mnt/a/Projects/101DataSets/Open-Academic-Graph/raw-data/\"\n",
    "val dataPath = \"/mnt/a/Projects/101DataSets/Open-Academic-Graph/data/\""
   ]
  },
  {
   "cell_type": "markdown",
   "id": "87afae2e",
   "metadata": {},
   "source": [
    "## Read Data"
   ]
  },
  {
   "cell_type": "code",
   "execution_count": 4,
   "id": "b1b5bf99",
   "metadata": {},
   "outputs": [
    {
     "data": {
      "text/plain": [
       "papers: org.apache.spark.sql.DataFrame = [authors: array<struct<id:string,name:string>>, doc_type: string ... 11 more fields]\n"
      ]
     },
     "execution_count": 4,
     "metadata": {},
     "output_type": "execute_result"
    }
   ],
   "source": [
    "val papers = spark.read.parquet(rawDataPath+\"spark/papers.parquet\")"
   ]
  },
  {
   "cell_type": "code",
   "execution_count": 6,
   "id": "edf2ebd0",
   "metadata": {},
   "outputs": [
    {
     "name": "stdout",
     "output_type": "stream",
     "text": [
      "root\n",
      " |-- authors: array (nullable = true)\n",
      " |    |-- element: struct (containsNull = true)\n",
      " |    |    |-- id: string (nullable = true)\n",
      " |    |    |-- name: string (nullable = true)\n",
      " |-- doc_type: string (nullable = true)\n",
      " |-- doi: string (nullable = true)\n",
      " |-- id: string (nullable = true)\n",
      " |-- issue: string (nullable = true)\n",
      " |-- n_citation: long (nullable = true)\n",
      " |-- page_end: string (nullable = true)\n",
      " |-- page_start: string (nullable = true)\n",
      " |-- publisher: string (nullable = true)\n",
      " |-- title: string (nullable = true)\n",
      " |-- venue: struct (nullable = true)\n",
      " |    |-- id: string (nullable = true)\n",
      " |    |-- raw: string (nullable = true)\n",
      " |-- volume: string (nullable = true)\n",
      " |-- year: long (nullable = true)\n",
      "\n"
     ]
    }
   ],
   "source": [
    "papers.printSchema"
   ]
  },
  {
   "cell_type": "code",
   "execution_count": 8,
   "id": "ae4fb78f",
   "metadata": {},
   "outputs": [
    {
     "name": "stdout",
     "output_type": "stream",
     "text": [
      "+--------------------------------------------------------------------------------------------------------------------------------------------------------+--------+----+----------+-----+----------+--------+----------+--------------------------------------------------------------+-----------------------------------------------------------------------------------+----------------------------------------------------------------------------------------------------------------+------+----+\n",
      "|authors                                                                                                                                                 |doc_type|doi |id        |issue|n_citation|page_end|page_start|publisher                                                     |title                                                                              |venue                                                                                                           |volume|year|\n",
      "+--------------------------------------------------------------------------------------------------------------------------------------------------------+--------+----+----------+-----+----------+--------+----------+--------------------------------------------------------------+-----------------------------------------------------------------------------------+----------------------------------------------------------------------------------------------------------------+------+----+\n",
      "|[{2661320946, José Luis Goñi Sein}, {2684172649, Margarita Apilluelo Martín}, {2114871879, Manuel González Labrada}, {2491501180, Elisa Sierra Hernáiz}]|        |null|2181295759|48   |0         |290     |281       |Lex Nova                                                      |Seguridad y salud en el trabajo                                                    |{null, Justicia laboral: revista de Derecho del Trabajo y de la Seguridad Social}                               |      |2011|\n",
      "|[{2178390615, W.H. Janssen}]                                                                                                                            |        |null|2181295770|     |0         |        |          |Stichting wetenschappelijk onderzoek verkeersveiligheid (SWOV)|Een veiligheidscultuur bottum-up : discussie n.a.v. de presentatie van Peter Levelt|{null, Schagen, I. van, Veiligheidscultuur in Nederland : bijdragen aan het seminar van 12 november 2002, 51-53}|      |2003|\n",
      "+--------------------------------------------------------------------------------------------------------------------------------------------------------+--------+----+----------+-----+----------+--------+----------+--------------------------------------------------------------+-----------------------------------------------------------------------------------+----------------------------------------------------------------------------------------------------------------+------+----+\n",
      "only showing top 2 rows\n",
      "\n"
     ]
    }
   ],
   "source": [
    "papers.show(2,false)"
   ]
  },
  {
   "cell_type": "code",
   "execution_count": 9,
   "id": "c14c62d6",
   "metadata": {},
   "outputs": [],
   "source": [
    "papers\n",
    ".groupBy($\"doc_type\")\n",
    ".count\n",
    ".coalesce(1)\n",
    ".write.option(\"header\",\"true\").mode(\"overwrite\").csv(dataPath+\"doc_type_count.csv\")"
   ]
  },
  {
   "cell_type": "code",
   "execution_count": 10,
   "id": "a97b4450",
   "metadata": {},
   "outputs": [
    {
     "data": {
      "text/plain": [
       "res5: Long = 208915369\n"
      ]
     },
     "execution_count": 10,
     "metadata": {},
     "output_type": "execute_result"
    }
   ],
   "source": [
    "papers.count"
   ]
  },
  {
   "cell_type": "code",
   "execution_count": 15,
   "id": "cddc084d",
   "metadata": {},
   "outputs": [],
   "source": [
    "papers\n",
    ".groupBy($\"year\",$\"doc_type\",$\"n_citation\")\n",
    ".count\n",
    ".coalesce(1)\n",
    ".write.option(\"header\",\"true\").mode(\"overwrite\")\n",
    ".csv(dataPath+\"year_doc_type_n_citation_count.csv\")"
   ]
  },
  {
   "cell_type": "code",
   "execution_count": 17,
   "id": "ce218d59",
   "metadata": {},
   "outputs": [],
   "source": [
    "papers\n",
    ".groupBy($\"page_start\",$\"page_end\",$\"n_citation\")\n",
    ".count\n",
    ".coalesce(1)\n",
    ".write.option(\"header\",\"true\").mode(\"overwrite\")\n",
    ".csv(dataPath+\"page_start_page_end_n_citation_count.csv\")"
   ]
  },
  {
   "cell_type": "code",
   "execution_count": 21,
   "id": "a31b6b80",
   "metadata": {},
   "outputs": [],
   "source": [
    "papers\n",
    ".withColumn(\"author_number\",size($\"authors\") )\n",
    ".groupBy($\"year\",$\"author_number\",$\"n_citation\",$\"doc_type\")\n",
    ".count\n",
    ".coalesce(1)\n",
    ".write.option(\"header\",\"true\").mode(\"overwrite\")\n",
    ".csv(dataPath+\"year_doc_type_n_citation_author_number_count.csv\")"
   ]
  },
  {
   "cell_type": "code",
   "execution_count": 13,
   "id": "197a2429",
   "metadata": {},
   "outputs": [
    {
     "name": "stdout",
     "output_type": "stream",
     "text": [
      "+-----------------------------------------------------------------------------------------------------------------------------------------+\n",
      "|venue                                                                                                                                    |\n",
      "+-----------------------------------------------------------------------------------------------------------------------------------------+\n",
      "|{null, Justicia laboral: revista de Derecho del Trabajo y de la Seguridad Social}                                                        |\n",
      "|{null, Schagen, I. van, Veiligheidscultuur in Nederland : bijdragen aan het seminar van 12 november 2002, 51-53}                         |\n",
      "|{205083296, IEEE Power & Energy Magazine}                                                                                                |\n",
      "|{130009153, Pharmaceutical Biology}                                                                                                      |\n",
      "|{43790123, Advances in Experimental Medicine and Biology}                                                                                |\n",
      "|{205231332, Astronomy and Astrophysics}                                                                                                  |\n",
      "|{null, MAVI, Mathematical views 2012, 18th conference, September 12-15, 2012, Helsinki}                                                  |\n",
      "|null                                                                                                                                     |\n",
      "|{null, Annual Conference 2015 (Muenster): Economic Development - Theory and Policy}                                                      |\n",
      "|{190290659, Journal of The Japanese Forest Society}                                                                                      |\n",
      "|{188482970, The Condor}                                                                                                                  |\n",
      "|{17577527, Plasma Processes and Polymers}                                                                                                |\n",
      "|{2497375143, Energy}                                                                                                                     |\n",
      "|{2764995319, Journal of Career Planning and Employment}                                                                                  |\n",
      "|{null, In: Lees, L and Imrie, R, (eds.) Sustainable London? : the future of a global city. (pp. 75-104).   Policy Press: Bristol. (2014)}|\n",
      "|null                                                                                                                                     |\n",
      "|{205877589, Nuovo Cimento Della Societa Italiana Di Fisica A-nuclei Particles and Fields}                                                |\n",
      "|{198733495, European Respiratory Journal}                                                                                                |\n",
      "|{null, Surgery Research and Practice}                                                                                                    |\n",
      "|{68372374, Vasa-european Journal of Vascular Medicine}                                                                                   |\n",
      "+-----------------------------------------------------------------------------------------------------------------------------------------+\n",
      "only showing top 20 rows\n",
      "\n"
     ]
    }
   ],
   "source": [
    "papers\n",
    ".select(\"venue\")\n",
    ".show(false)"
   ]
  },
  {
   "cell_type": "code",
   "execution_count": null,
   "id": "34d1e7a3",
   "metadata": {},
   "outputs": [],
   "source": []
  }
 ],
 "metadata": {
  "kernelspec": {
   "display_name": "spylon-kernel",
   "language": "scala",
   "name": "spylon-kernel"
  },
  "language_info": {
   "codemirror_mode": "text/x-scala",
   "file_extension": ".scala",
   "help_links": [
    {
     "text": "MetaKernel Magics",
     "url": "https://metakernel.readthedocs.io/en/latest/source/README.html"
    }
   ],
   "mimetype": "text/x-scala",
   "name": "scala",
   "pygments_lexer": "scala",
   "version": "0.4.1"
  }
 },
 "nbformat": 4,
 "nbformat_minor": 5
}
