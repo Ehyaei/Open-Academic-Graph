{
 "cells": [
  {
   "cell_type": "code",
   "execution_count": 1,
   "id": "94267bf6",
   "metadata": {},
   "outputs": [],
   "source": [
    "%%init_spark\n",
    "launcher.master = \"local[6]\"\n",
    "launcher.driver_memory = '8g'"
   ]
  },
  {
   "cell_type": "code",
   "execution_count": 2,
   "id": "c3fe008c",
   "metadata": {},
   "outputs": [
    {
     "data": {
      "text/plain": [
       "Intitializing Scala interpreter ..."
      ]
     },
     "metadata": {},
     "output_type": "display_data"
    },
    {
     "data": {
      "text/plain": [
       "Spark Web UI available at http://pc:4040\n",
       "SparkContext available as 'sc' (version = 3.1.2, master = local[6], app id = local-1631123672520)\n",
       "SparkSession available as 'spark'\n"
      ]
     },
     "metadata": {},
     "output_type": "display_data"
    },
    {
     "data": {
      "text/plain": [
       "import org.apache.spark.sql.functions._\n"
      ]
     },
     "execution_count": 2,
     "metadata": {},
     "output_type": "execute_result"
    }
   ],
   "source": [
    "import org.apache.spark.sql.functions._"
   ]
  },
  {
   "cell_type": "code",
   "execution_count": 3,
   "id": "aac083f5",
   "metadata": {},
   "outputs": [
    {
     "data": {
      "text/plain": [
       "rawDataPath: String = /mnt/a/Projects/100DataSets/Open-Academic-Graph/raw-data/\n"
      ]
     },
     "execution_count": 3,
     "metadata": {},
     "output_type": "execute_result"
    }
   ],
   "source": [
    "val rawDataPath = \"/mnt/a/Projects/100DataSets/Open-Academic-Graph/raw-data/\""
   ]
  },
  {
   "cell_type": "markdown",
   "id": "8af53b3c",
   "metadata": {},
   "source": [
    "# Read Data"
   ]
  },
  {
   "cell_type": "markdown",
   "id": "aae324e8",
   "metadata": {},
   "source": [
    "## Affiliation Data:"
   ]
  },
  {
   "cell_type": "code",
   "execution_count": 7,
   "id": "d49be281",
   "metadata": {},
   "outputs": [
    {
     "data": {
      "text/plain": [
       "affiliation: org.apache.spark.sql.DataFrame = [DisplayName: string, Latitude: string ... 5 more fields]\n"
      ]
     },
     "execution_count": 7,
     "metadata": {},
     "output_type": "execute_result"
    }
   ],
   "source": [
    "val affiliation = spark.read.json(rawDataPath+\"affiliations/mag_affiliations.txt\")"
   ]
  },
  {
   "cell_type": "code",
   "execution_count": 11,
   "id": "aae163f8",
   "metadata": {},
   "outputs": [],
   "source": [
    "affiliation\n",
    ".coalesce(1)\n",
    ".write.option(\"header\",\"true\").mode(\"overwrite\").csv(rawDataPath+\"spark/affiliation.csv\")"
   ]
  },
  {
   "cell_type": "code",
   "execution_count": 8,
   "id": "8c21b0f9",
   "metadata": {},
   "outputs": [
    {
     "name": "stdout",
     "output_type": "stream",
     "text": [
      "+--------------------+--------+---------+--------------------+--------------------+----+-------------------+\n",
      "|         DisplayName|Latitude|Longitude|      NormalizedName|            WikiPage|  id|                url|\n",
      "+--------------------+--------+---------+--------------------+--------------------+----+-------------------+\n",
      "|Illinois College ...|41.83574|-87.62341|illinois college ...|http://en.wikiped...|4605|http://www.ico.edu/|\n",
      "+--------------------+--------+---------+--------------------+--------------------+----+-------------------+\n",
      "only showing top 1 row\n",
      "\n"
     ]
    }
   ],
   "source": [
    "affiliation.show(1)"
   ]
  },
  {
   "cell_type": "markdown",
   "id": "cd11b882",
   "metadata": {},
   "source": [
    "## venue"
   ]
  },
  {
   "cell_type": "code",
   "execution_count": 12,
   "id": "1778e878",
   "metadata": {},
   "outputs": [
    {
     "data": {
      "text/plain": [
       "venue: org.apache.spark.sql.DataFrame = [ConferenceId: string, DisplayName: string ... 3 more fields]\n"
      ]
     },
     "execution_count": 12,
     "metadata": {},
     "output_type": "execute_result"
    }
   ],
   "source": [
    "val venue = spark.read.json(rawDataPath+\"venue/mag_venues.txt\")"
   ]
  },
  {
   "cell_type": "code",
   "execution_count": 13,
   "id": "490f5b1d",
   "metadata": {},
   "outputs": [
    {
     "name": "stdout",
     "output_type": "stream",
     "text": [
      "+------------+-----------+---------+--------------+--------------------+\n",
      "|ConferenceId|DisplayName|JournalId|NormalizedName|                  id|\n",
      "+------------+-----------+---------+--------------+--------------------+\n",
      "|        null|     Eureka|   465895|        eureka|5bf573b81c5a1dcdd...|\n",
      "+------------+-----------+---------+--------------+--------------------+\n",
      "only showing top 1 row\n",
      "\n"
     ]
    }
   ],
   "source": [
    "venue.show(1)"
   ]
  },
  {
   "cell_type": "code",
   "execution_count": 14,
   "id": "a9e7f560",
   "metadata": {},
   "outputs": [],
   "source": [
    "venue\n",
    ".coalesce(1)\n",
    ".write.option(\"header\",\"true\").mode(\"overwrite\").csv(rawDataPath+\"spark/venue.csv\")"
   ]
  },
  {
   "cell_type": "markdown",
   "id": "8583ce21",
   "metadata": {},
   "source": [
    "## Authors"
   ]
  },
  {
   "cell_type": "code",
   "execution_count": 4,
   "id": "dfb2f3b5",
   "metadata": {},
   "outputs": [],
   "source": [
    "spark.read.json(rawDataPath+\"authors/*.txt\")\n",
    ".write.mode(\"overwrite\").parquet(rawDataPath+\"spark/authors.parquet\")"
   ]
  },
  {
   "cell_type": "code",
   "execution_count": 16,
   "id": "2a0cd875",
   "metadata": {},
   "outputs": [
    {
     "name": "stdout",
     "output_type": "stream",
     "text": [
      "+----------+----------+------+---------------+---------------+----+----+----------------+----+\n",
      "|        id|n_citation|n_pubs|           name|normalized_name| org|orgs|            pubs|tags|\n",
      "+----------+----------+------+---------------+---------------+----+----+----------------+----+\n",
      "|1000000099|         0|     1|Ш. Н. Шахбазова|  ш н шахбазова|null|null|[{173313229, 0}]|null|\n",
      "+----------+----------+------+---------------+---------------+----+----+----------------+----+\n",
      "only showing top 1 row\n",
      "\n"
     ]
    }
   ],
   "source": [
    "authors.show(1)"
   ]
  },
  {
   "cell_type": "code",
   "execution_count": 5,
   "id": "57a5fde7",
   "metadata": {},
   "outputs": [
    {
     "data": {
      "text/plain": [
       "authors: org.apache.spark.sql.DataFrame = [id: string, n_citation: bigint ... 7 more fields]\n"
      ]
     },
     "execution_count": 5,
     "metadata": {},
     "output_type": "execute_result"
    }
   ],
   "source": [
    "val authors = spark.read.parquet(rawDataPath+\"spark/authors.parquet\")"
   ]
  },
  {
   "cell_type": "code",
   "execution_count": 6,
   "id": "47a1e022",
   "metadata": {},
   "outputs": [
    {
     "data": {
      "text/plain": [
       "res1: Long = 253144301\n"
      ]
     },
     "execution_count": 6,
     "metadata": {},
     "output_type": "execute_result"
    }
   ],
   "source": [
    "authors.count"
   ]
  },
  {
   "cell_type": "code",
   "execution_count": 7,
   "id": "8be1dfaf",
   "metadata": {},
   "outputs": [
    {
     "name": "stdout",
     "output_type": "stream",
     "text": [
      "+----------+----------+------+------+---------------+----+----+-----------------+----+\n",
      "|        id|n_citation|n_pubs|  name|normalized_name| org|orgs|             pubs|tags|\n",
      "+----------+----------+------+------+---------------+----+----+-----------------+----+\n",
      "|2736393860|         0|     1|马晓东|         马晓东|null|null|[{2738068945, 2}]|null|\n",
      "+----------+----------+------+------+---------------+----+----+-----------------+----+\n",
      "only showing top 1 row\n",
      "\n"
     ]
    }
   ],
   "source": [
    "authors.show(1)"
   ]
  },
  {
   "cell_type": "markdown",
   "id": "561d4cab",
   "metadata": {},
   "source": [
    "## Papers"
   ]
  },
  {
   "cell_type": "code",
   "execution_count": 8,
   "id": "9ffc9bef",
   "metadata": {},
   "outputs": [],
   "source": [
    "spark.read.json(rawDataPath+\"papers/*.txt\")\n",
    ".write.mode(\"overwrite\").parquet(rawDataPath+\"spark/papers.parquet\")"
   ]
  },
  {
   "cell_type": "code",
   "execution_count": null,
   "id": "54008540",
   "metadata": {},
   "outputs": [],
   "source": []
  }
 ],
 "metadata": {
  "kernelspec": {
   "display_name": "spylon-kernel",
   "language": "scala",
   "name": "spylon-kernel"
  },
  "language_info": {
   "codemirror_mode": "text/x-scala",
   "file_extension": ".scala",
   "help_links": [
    {
     "text": "MetaKernel Magics",
     "url": "https://metakernel.readthedocs.io/en/latest/source/README.html"
    }
   ],
   "mimetype": "text/x-scala",
   "name": "scala",
   "pygments_lexer": "scala",
   "version": "0.4.1"
  }
 },
 "nbformat": 4,
 "nbformat_minor": 5
}
